{
 "cells": [
  {
   "cell_type": "code",
   "execution_count": null,
   "source": [
    "import pandas as pd\r\n",
    "import numpy as np\r\n",
    "import torch\r\n",
    "from rdkit import Chem, DataStructs\r\n",
    "from rdkit.Chem import AllChem, DataStructs\r\n",
    "\r\n",
    "from models.net import Net\r\n",
    "from predict import get_fp, predict_res"
   ],
   "outputs": [],
   "metadata": {}
  },
  {
   "cell_type": "code",
   "execution_count": null,
   "source": [
    "smiles_list = []\r\n",
    "smiles = pd.DataFrame(smiles_list, columns=['smiles'])\r\n",
    "smiles"
   ],
   "outputs": [],
   "metadata": {}
  },
  {
   "cell_type": "code",
   "execution_count": null,
   "source": [
    "model_path = 'model/fruity_stat.pkl'\r\n",
    "model = Net()\r\n",
    "model.load_state_dict(torch.load(model_path))\r\n",
    "model.to('cuda:0')"
   ],
   "outputs": [],
   "metadata": {}
  },
  {
   "cell_type": "code",
   "execution_count": null,
   "source": [
    "mol_clean_smiles, X_fp_bit = get_fp(smiles)\r\n",
    "pred_mols_df = predict_res(X_fp_bit)\r\n",
    "pred_mols_df"
   ],
   "outputs": [],
   "metadata": {}
  }
 ],
 "metadata": {
  "orig_nbformat": 4,
  "language_info": {
   "name": "python",
   "version": "3.8.5",
   "mimetype": "text/x-python",
   "codemirror_mode": {
    "name": "ipython",
    "version": 3
   },
   "pygments_lexer": "ipython3",
   "nbconvert_exporter": "python",
   "file_extension": ".py"
  },
  "kernelspec": {
   "name": "python3",
   "display_name": "Python 3.8.5 64-bit ('base': conda)"
  },
  "interpreter": {
   "hash": "25bfac28137bb0a9c16be8f23c64f13fe2976be8a0bb8e821381ee977692a593"
  }
 },
 "nbformat": 4,
 "nbformat_minor": 2
}