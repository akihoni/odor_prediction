{
 "metadata": {
  "language_info": {
   "codemirror_mode": {
    "name": "ipython",
    "version": 3
   },
   "file_extension": ".py",
   "mimetype": "text/x-python",
   "name": "python",
   "nbconvert_exporter": "python",
   "pygments_lexer": "ipython3",
   "version": "3.8.5"
  },
  "orig_nbformat": 2,
  "kernelspec": {
   "name": "python385jvsc74a57bd023bc902ea7de6fb6674954bc35d9f64533aca6659ce812252d037bb8d15d2114",
   "display_name": "Python 3.8.5 64-bit ('base': conda)"
  }
 },
 "nbformat": 4,
 "nbformat_minor": 2,
 "cells": [
  {
   "cell_type": "code",
   "execution_count": null,
   "source": [
    "import pandas as pd"
   ],
   "outputs": [],
   "metadata": {}
  },
  {
   "cell_type": "markdown",
   "source": [
    "分别创建smiles_a.csv和smiles_b.csv，拼接smiles_all.txt即可。"
   ],
   "metadata": {}
  },
  {
   "cell_type": "code",
   "execution_count": null,
   "source": [
    "# 分别读入各个数据\r\n",
    "\r\n",
    "# 上一轮生成数据\r\n",
    "# 此处分子带预测结果，筛选后要drop掉！\r\n",
    "data_last = pd.read_csv('./data/2104_data4gan/res/r2_fruity.csv')\r\n",
    "\r\n",
    "# gs数据（去掉了一个无法转为graph的分子）\r\n",
    "data_gs_smiles = pd.read_csv('./data/2104_data4gan/gs_remove.csv')\r\n",
    "data_gs_label = pd.read_csv('./data/2104_data4gan/label_remove.csv', usecols=['fruity'])\r\n",
    "# 此处分子是带标签的，后面要drop掉！\r\n",
    "data_gs = pd.concat([data_gs_smiles, data_gs_label], axis=1)"
   ],
   "outputs": [],
   "metadata": {}
  },
  {
   "cell_type": "code",
   "execution_count": null,
   "source": [
    "# 筛选上一轮数据，a为非fruity，b为fruity分子。\r\n",
    "data_last_a = data_last.loc[data_last['fruity'] < 0.1].drop(['fruity'], axis=1)\r\n",
    "data_last_b = data_last.loc[data_last['fruity'] >= 0.9].drop(['fruity'], axis=1)\r\n",
    "\r\n",
    "print(data_last_a.tail(), data_last_a.shape)\r\n",
    "print(data_last_b.tail(), data_last_b.shape)"
   ],
   "outputs": [],
   "metadata": {}
  },
  {
   "cell_type": "code",
   "execution_count": null,
   "source": [
    "# 筛选gs数据，a为非fruity，b为fruity。\r\n",
    "data_gs_a = data_gs.iloc[~(data_gs['fruity'].values == 1)].drop('fruity', axis=1)\r\n",
    "data_gs_b = data_gs.iloc[(data_gs['fruity'].values == 1)].drop('fruity', axis=1)\r\n",
    "\r\n",
    "print(data_gs_a.tail(), data_gs_a.shape)\r\n",
    "print(data_gs_b.tail(), data_gs_b.shape)"
   ],
   "outputs": [],
   "metadata": {}
  },
  {
   "cell_type": "code",
   "execution_count": null,
   "source": [
    "# 连接各个数据集\r\n",
    "data_a = pd.concat([data_gs_a, data_last_a], axis=0)\r\n",
    "data_b = pd.concat([data_gs_b, data_last_b], axis=0)\r\n",
    "data_all = pd.concat([data_a, data_b], axis=0)\r\n",
    "\r\n",
    "print(data_a.shape, data_b.shape, data_all.shape)"
   ],
   "outputs": [],
   "metadata": {}
  },
  {
   "cell_type": "code",
   "execution_count": null,
   "source": [
    "# 保存数据\n",
    "data_a.to_csv('./data/2104_data4gan/r3/smiles_a.csv', index=None)\n",
    "data_b.to_csv('./data/2104_data4gan/r3/smiles_b.csv', index=None)\n",
    "data_all.to_csv('./data/2104_data4gan/r3/smiles_all.txt', index=None, header=None)"
   ],
   "outputs": [],
   "metadata": {}
  }
 ]
}