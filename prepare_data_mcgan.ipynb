{
    "cells": [
        {
            "cell_type": "code",
            "execution_count": null,
            "source": [
                "import pandas as pd"
            ],
            "outputs": [],
            "metadata": {}
        },
        {
            "cell_type": "code",
            "execution_count": null,
            "source": [
                "latent = pd.read_table('./data/sts/latent_features.txt', sep='\\s', header=None, engine='python')\r\n",
                "smiles = pd.read_table('./data/sts/smiles_all.txt',sep='\\n', header=None)\r\n",
                "labels = pd.read_csv('./data/sts/sts_real.csv')"
            ],
            "outputs": [],
            "metadata": {}
        },
        {
            "cell_type": "code",
            "execution_count": null,
            "source": [
                "label = labels[['SMILES', 'Smell Percepts']]\r\n",
                "label"
            ],
            "outputs": [],
            "metadata": {}
        },
        {
            "cell_type": "code",
            "execution_count": null,
            "source": [
                "for index in label.index:\r\n",
                "    if 'fruity' in label.loc[index, 'Smell Percepts']:\r\n",
                "        label.loc[index, 'fruity'] = int(1)\r\n",
                "    else:\r\n",
                "        label.loc[index, 'fruity'] = int(0)"
            ],
            "outputs": [],
            "metadata": {}
        },
        {
            "cell_type": "code",
            "execution_count": null,
            "source": [
                "label_real = label.sort_values('fruity', ascending=False).drop_duplicates('SMILES').sort_index()\r\n",
                "label_real = label_real.reset_index().drop(['index', 'Smell Percepts'], axis=1)\r\n",
                "label_real"
            ],
            "outputs": [],
            "metadata": {}
        },
        {
            "cell_type": "code",
            "execution_count": null,
            "source": [
                "# 以下为准备mcgan数据\r\n",
                "smiles.columns = ['SMILES']\r\n",
                "smiles"
            ],
            "outputs": [],
            "metadata": {}
        },
        {
            "cell_type": "code",
            "execution_count": null,
            "source": [
                "label = pd.merge(smiles, labels, on='SMILES', how='left')\r\n",
                "label = label[['SMILES', 'Smell Percepts']]\r\n",
                "label"
            ],
            "outputs": [],
            "metadata": {}
        },
        {
            "cell_type": "code",
            "execution_count": null,
            "source": [
                "# 遍历每行看是否有fruity标签\r\n",
                "for index in label.index:\r\n",
                "    if 'fruity' in label.loc[index]['Smell Percepts']:\r\n",
                "        label.loc[index, 'fruity'] = int(1)\r\n",
                "    else:\r\n",
                "        label.loc[index, 'fruity'] = int(0)\r\n",
                "label"
            ],
            "outputs": [],
            "metadata": {}
        },
        {
            "cell_type": "code",
            "execution_count": null,
            "source": [
                "label_real = label.sort_values('fruity', ascending=False).drop_duplicates('SMILES').sort_index()\r\n",
                "label_real = label_real.reset_index()\r\n",
                "label_real"
            ],
            "outputs": [],
            "metadata": {}
        },
        {
            "cell_type": "code",
            "execution_count": null,
            "source": [
                "data_all = pd.concat([smiles, latent, label_real['fruity']], axis=1)\r\n",
                "col = ['smiles']\r\n",
                "name = 'jtvae_ld_'\r\n",
                "for i in range(56):\r\n",
                "    col.append(name + str(i))\r\n",
                "col.append('label')\r\n",
                "data_all.columns = col\r\n",
                "data_all"
            ],
            "outputs": [],
            "metadata": {}
        },
        {
            "cell_type": "code",
            "execution_count": null,
            "source": [
                "# A为non-fruity，B为fruity\r\n",
                "data_a = data_all.iloc[~(data_all['label'].values == 1)].drop('label', axis=1)\r\n",
                "data_b = data_all.iloc[(data_all['label'].values == 1)].drop('label', axis=1)"
            ],
            "outputs": [],
            "metadata": {}
        },
        {
            "cell_type": "code",
            "execution_count": null,
            "source": [
                "test_size_a = 700\r\n",
                "test_size_b = 500\r\n",
                "\r\n",
                "data_a_test = data_a.sample(test_size_a, axis=0)\r\n",
                "data_b_test = data_b.sample(test_size_b, axis=0)\r\n",
                "\r\n",
                "test_ind_a = data_a_test.index.to_list()\r\n",
                "test_ind_b = data_b_test.index.to_list()\r\n",
                "data_a_train = data_a.drop(test_ind_a, axis=0)\r\n",
                "data_b_train = data_b.drop(test_ind_b, axis=0)"
            ],
            "outputs": [],
            "metadata": {}
        },
        {
            "cell_type": "code",
            "execution_count": null,
            "source": [
                "label_real.to_csv('./data/sts/sts_train.csv', index=None)\r\n",
                "data_a_train.to_csv('./data/sts/X_JTVAE_gs_train_A.csv', index=None)\r\n",
                "data_b_train.to_csv('./data/sts/X_JTVAE_gs_train_B.csv', index=None)\r\n",
                "data_a_test.to_csv('./data/sts/X_JTVAE_gs_test_A.csv', index=None)\r\n",
                "data_b_test.to_csv('./data/sts/X_JTVAE_gs_test_B.csv', index=None)"
            ],
            "outputs": [],
            "metadata": {}
        }
    ],
    "metadata": {
        "orig_nbformat": 4,
        "language_info": {
            "name": "python",
            "version": "3.8.5",
            "mimetype": "text/x-python",
            "codemirror_mode": {
                "name": "ipython",
                "version": 3
            },
            "pygments_lexer": "ipython3",
            "nbconvert_exporter": "python",
            "file_extension": ".py"
        },
        "kernelspec": {
            "name": "python3",
            "display_name": "Python 3.8.5 64-bit ('base': conda)"
        },
        "interpreter": {
            "hash": "25bfac28137bb0a9c16be8f23c64f13fe2976be8a0bb8e821381ee977692a593"
        }
    },
    "nbformat": 4,
    "nbformat_minor": 2
}